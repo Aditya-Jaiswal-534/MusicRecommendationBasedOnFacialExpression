{
  "cells": [
    {
      "cell_type": "code",
      "execution_count": null,
      "metadata": {
        "id": "ocSrQMCiWDAQ"
      },
      "outputs": [],
      "source": [
        "import pandas as pd\n",
        "import numpy as np"
      ]
    },
    {
      "cell_type": "code",
      "execution_count": null,
      "metadata": {
        "id": "n2gDQ8pCa0Ca"
      },
      "outputs": [],
      "source": [
        "!mkdir -p ~/.kaggle\n",
        "!cp kaggle.json ~/.kaggle/"
      ]
    },
    {
      "cell_type": "code",
      "execution_count": null,
      "metadata": {
        "colab": {
          "base_uri": "https://localhost:8080/"
        },
        "id": "slJhajbtax5j",
        "outputId": "cbc0ae1b-4abf-4734-dd7e-d0b67a34bd11"
      },
      "outputs": [
        {
          "output_type": "stream",
          "name": "stdout",
          "text": [
            "Warning: Your Kaggle API key is readable by other users on this system! To fix this, you can run 'chmod 600 /root/.kaggle/kaggle.json'\n",
            "Downloading face-expression-recognition-dataset.zip to /content\n",
            " 99% 119M/121M [00:00<00:00, 130MB/s]\n",
            "100% 121M/121M [00:00<00:00, 127MB/s]\n"
          ]
        }
      ],
      "source": [
        "!kaggle datasets download -d jonathanoheix/face-expression-recognition-dataset"
      ]
    },
    {
      "cell_type": "code",
      "execution_count": null,
      "metadata": {
        "id": "4vBfPZleZm4Z"
      },
      "outputs": [],
      "source": [
        "import zipfile\n",
        "zip_ref = zipfile.ZipFile('/content/face-expression-recognition-dataset.zip', 'r')\n",
        "zip_ref.extractall('/content')\n",
        "zip_ref.close()"
      ]
    },
    {
      "cell_type": "code",
      "execution_count": null,
      "metadata": {
        "id": "Kbto5qxEZrpj"
      },
      "outputs": [],
      "source": [
        "import tensorflow as tf\n",
        "from tensorflow import keras\n",
        "from keras import Sequential\n",
        "from keras.preprocessing.image import ImageDataGenerator\n",
        "from keras.layers import Dense,Conv2D,MaxPooling2D,Flatten,BatchNormalization,Dropout"
      ]
    },
    {
      "cell_type": "code",
      "execution_count": null,
      "metadata": {
        "id": "rgdqvUvFbG7Z",
        "colab": {
          "base_uri": "https://localhost:8080/"
        },
        "outputId": "9fd89d18-be5f-48f2-c226-a15c9277d800"
      },
      "outputs": [
        {
          "output_type": "stream",
          "name": "stdout",
          "text": [
            "Found 28821 images belonging to 7 classes.\n",
            "Found 7066 images belonging to 7 classes.\n"
          ]
        }
      ],
      "source": [
        "# generators\n",
        "# train_ds = keras.utils.image_dataset_from_directory(\n",
        "#     directory = '/content/images/train',\n",
        "#     labels='inferred',\n",
        "#     label_mode = 'int',\n",
        "#     batch_size=32,\n",
        "#     image_size=(256,256)\n",
        "# )\n",
        "\n",
        "# validation_ds = keras.utils.image_dataset_from_directory(\n",
        "#     directory = '/content/images/validation',\n",
        "#     labels='inferred',\n",
        "#     label_mode = 'int',\n",
        "#     batch_size=32,\n",
        "#     image_size=(256,256)\n",
        "# )\n",
        "picture_size = 48\n",
        "batch_size  = 32\n",
        "\n",
        "datagen_train  = ImageDataGenerator()\n",
        "datagen_val = ImageDataGenerator()\n",
        "\n",
        "train_ds = datagen_train.flow_from_directory(\"/content/images/train\",\n",
        "                                              target_size = (picture_size,picture_size),\n",
        "                                              color_mode = \"grayscale\",\n",
        "                                              batch_size=batch_size,\n",
        "                                              class_mode='categorical',\n",
        "                                              shuffle=True)\n",
        "\n",
        "\n",
        "validation_ds = datagen_val.flow_from_directory(\"/content/images/validation\",\n",
        "                                              target_size = (picture_size,picture_size),\n",
        "                                              color_mode = \"grayscale\",\n",
        "                                              batch_size=batch_size,\n",
        "                                              class_mode='categorical',\n",
        "                                              shuffle=False)"
      ]
    },
    {
      "cell_type": "code",
      "execution_count": null,
      "metadata": {
        "id": "08Dq5LuIbXel"
      },
      "outputs": [],
      "source": [
        "# Normalize\n",
        "# def process(image,label):\n",
        "#     image = tf.cast(image/255. ,tf.float32)\n",
        "#     print(image.shape)\n",
        "#     return image,label\n",
        "\n",
        "# train_ds = train_ds.map(process)\n",
        "# validation_ds = validation_ds.map(process)"
      ]
    },
    {
      "cell_type": "code",
      "source": [
        "train_ds.image_shape"
      ],
      "metadata": {
        "colab": {
          "base_uri": "https://localhost:8080/"
        },
        "id": "1apqDztIs1sl",
        "outputId": "df8d4fb0-5336-4dc8-ff31-e36d9515b434"
      },
      "execution_count": null,
      "outputs": [
        {
          "output_type": "execute_result",
          "data": {
            "text/plain": [
              "(48, 48, 1)"
            ]
          },
          "metadata": {},
          "execution_count": 7
        }
      ]
    },
    {
      "cell_type": "code",
      "execution_count": null,
      "metadata": {
        "id": "hQF3r2DnbeBr"
      },
      "outputs": [],
      "source": [
        "# create CNN model\n",
        "\n",
        "model = Sequential()\n",
        "\n",
        "model.add(Conv2D(256,kernel_size=(3,3),padding='valid',activation='relu',input_shape=(48,48,1)))\n",
        "model.add(BatchNormalization())\n",
        "model.add(MaxPooling2D(pool_size=(2,2),strides=2,padding='valid'))\n",
        "\n",
        "model.add(Conv2D(128,kernel_size=(3,3),padding='valid',activation='relu'))\n",
        "model.add(BatchNormalization())\n",
        "model.add(MaxPooling2D(pool_size=(2,2),strides=2,padding='valid'))\n",
        "\n",
        "model.add(Conv2D(32,kernel_size=(3,3),padding='valid',activation='relu'))\n",
        "model.add(BatchNormalization())\n",
        "model.add(MaxPooling2D(pool_size=(2,2),strides=2,padding='valid'))\n",
        "\n",
        "model.add(Flatten())\n",
        "\n",
        "model.add(Dense(32,activation='relu'))\n",
        "model.add(Dropout(0.1))\n",
        "model.add(Dense(8,activation='relu'))\n",
        "model.add(Dropout(0.1))\n",
        "model.add(Dense(7,activation='softmax'))"
      ]
    },
    {
      "cell_type": "code",
      "execution_count": null,
      "metadata": {
        "colab": {
          "base_uri": "https://localhost:8080/"
        },
        "id": "o8aw12zIbhbS",
        "outputId": "40d607d4-2129-4ae6-c9be-a276e4f56267"
      },
      "outputs": [
        {
          "output_type": "stream",
          "name": "stdout",
          "text": [
            "Model: \"sequential\"\n",
            "_________________________________________________________________\n",
            " Layer (type)                Output Shape              Param #   \n",
            "=================================================================\n",
            " conv2d (Conv2D)             (None, 46, 46, 256)       2560      \n",
            "                                                                 \n",
            " batch_normalization (Batch  (None, 46, 46, 256)       1024      \n",
            " Normalization)                                                  \n",
            "                                                                 \n",
            " max_pooling2d (MaxPooling2  (None, 23, 23, 256)       0         \n",
            " D)                                                              \n",
            "                                                                 \n",
            " conv2d_1 (Conv2D)           (None, 21, 21, 128)       295040    \n",
            "                                                                 \n",
            " batch_normalization_1 (Bat  (None, 21, 21, 128)       512       \n",
            " chNormalization)                                                \n",
            "                                                                 \n",
            " max_pooling2d_1 (MaxPoolin  (None, 10, 10, 128)       0         \n",
            " g2D)                                                            \n",
            "                                                                 \n",
            " conv2d_2 (Conv2D)           (None, 8, 8, 32)          36896     \n",
            "                                                                 \n",
            " batch_normalization_2 (Bat  (None, 8, 8, 32)          128       \n",
            " chNormalization)                                                \n",
            "                                                                 \n",
            " max_pooling2d_2 (MaxPoolin  (None, 4, 4, 32)          0         \n",
            " g2D)                                                            \n",
            "                                                                 \n",
            " flatten (Flatten)           (None, 512)               0         \n",
            "                                                                 \n",
            " dense (Dense)               (None, 32)                16416     \n",
            "                                                                 \n",
            " dropout (Dropout)           (None, 32)                0         \n",
            "                                                                 \n",
            " dense_1 (Dense)             (None, 8)                 264       \n",
            "                                                                 \n",
            " dropout_1 (Dropout)         (None, 8)                 0         \n",
            "                                                                 \n",
            " dense_2 (Dense)             (None, 7)                 63        \n",
            "                                                                 \n",
            "=================================================================\n",
            "Total params: 352903 (1.35 MB)\n",
            "Trainable params: 352071 (1.34 MB)\n",
            "Non-trainable params: 832 (3.25 KB)\n",
            "_________________________________________________________________\n"
          ]
        }
      ],
      "source": [
        "model.summary()"
      ]
    },
    {
      "cell_type": "code",
      "execution_count": null,
      "metadata": {
        "id": "PzP8CRLEbkRY"
      },
      "outputs": [],
      "source": [
        "model.compile(optimizer='adam', loss='categorical_crossentropy', metrics=['accuracy'])"
      ]
    },
    {
      "cell_type": "code",
      "execution_count": null,
      "metadata": {
        "colab": {
          "base_uri": "https://localhost:8080/"
        },
        "id": "kLb9iFLHc7CC",
        "outputId": "86e507e3-f5bf-42ca-a9ea-23d02e6c601f"
      },
      "outputs": [
        {
          "output_type": "stream",
          "name": "stdout",
          "text": [
            "Epoch 1/10\n",
            "900/900 [==============================] - 28s 24ms/step - loss: 1.7456 - accuracy: 0.3005 - val_loss: 1.6567 - val_accuracy: 0.3308\n",
            "Epoch 2/10\n",
            "900/900 [==============================] - 20s 22ms/step - loss: 1.5157 - accuracy: 0.3956 - val_loss: 1.4579 - val_accuracy: 0.4334\n",
            "Epoch 3/10\n",
            "900/900 [==============================] - 20s 23ms/step - loss: 1.4238 - accuracy: 0.4391 - val_loss: 1.4798 - val_accuracy: 0.4328\n",
            "Epoch 4/10\n",
            "900/900 [==============================] - 20s 23ms/step - loss: 1.3509 - accuracy: 0.4758 - val_loss: 1.3924 - val_accuracy: 0.4736\n",
            "Epoch 5/10\n",
            "900/900 [==============================] - 18s 20ms/step - loss: 1.2939 - accuracy: 0.4997 - val_loss: 1.4371 - val_accuracy: 0.4365\n",
            "Epoch 6/10\n",
            "900/900 [==============================] - 18s 20ms/step - loss: 1.2457 - accuracy: 0.5164 - val_loss: 1.3970 - val_accuracy: 0.4628\n",
            "Epoch 7/10\n",
            "900/900 [==============================] - 20s 23ms/step - loss: 1.1978 - accuracy: 0.5393 - val_loss: 1.2900 - val_accuracy: 0.5037\n",
            "Epoch 8/10\n",
            "900/900 [==============================] - 18s 20ms/step - loss: 1.1555 - accuracy: 0.5576 - val_loss: 1.3422 - val_accuracy: 0.4891\n",
            "Epoch 9/10\n",
            "900/900 [==============================] - 17s 19ms/step - loss: 1.1132 - accuracy: 0.5747 - val_loss: 1.2816 - val_accuracy: 0.5098\n",
            "Epoch 10/10\n",
            "900/900 [==============================] - 18s 20ms/step - loss: 1.0699 - accuracy: 0.5898 - val_loss: 1.2273 - val_accuracy: 0.5345\n"
          ]
        }
      ],
      "source": [
        "# history = model.fit(train_ds,epochs=1,validation_data=validation_ds)\n",
        "history = model.fit(train_ds,\n",
        "                                steps_per_epoch=train_ds.n//train_ds.batch_size,\n",
        "                                epochs=10,\n",
        "                                validation_data = validation_ds,\n",
        "                                validation_steps = validation_ds.n//validation_ds.batch_size\n",
        "                                )"
      ]
    },
    {
      "cell_type": "code",
      "source": [
        "import matplotlib.pyplot as plt"
      ],
      "metadata": {
        "id": "xjD49qgEsteW"
      },
      "execution_count": null,
      "outputs": []
    },
    {
      "cell_type": "code",
      "execution_count": null,
      "metadata": {
        "id": "JQP2zfSAbuEb",
        "colab": {
          "base_uri": "https://localhost:8080/",
          "height": 431
        },
        "outputId": "1de0875f-8cb0-46f6-fa36-20ff16d60b84"
      },
      "outputs": [
        {
          "output_type": "display_data",
          "data": {
            "text/plain": [
              "<Figure size 640x480 with 1 Axes>"
            ],
            "image/png": "[encoded data removed]"
          },
          "metadata": {}
        }
      ],
      "source": [
        "\n",
        "plt.plot(history.history['accuracy'],color='red',label='train')\n",
        "plt.plot(history.history['val_accuracy'],color='blue',label='validation')\n",
        "plt.legend()\n",
        "plt.show()"
      ]
    },
    {
      "cell_type": "code",
      "execution_count": null,
      "metadata": {
        "id": "_2xFvQCjbxZz",
        "colab": {
          "base_uri": "https://localhost:8080/",
          "height": 430
        },
        "outputId": "c641f7bf-04be-445d-e131-c7777eaa5c71"
      },
      "outputs": [
        {
          "output_type": "display_data",
          "data": {
            "text/plain": [
              "<Figure size 640x480 with 1 Axes>"
            ],
            "image/png": "[encoded data removed]"
          },
          "metadata": {}
        }
      ],
      "source": [
        "plt.plot(history.history['loss'],color='red',label='train')\n",
        "plt.plot(history.history['val_loss'],color='blue',label='validation')\n",
        "plt.legend()\n",
        "plt.show()"
      ]
    },
    {
      "cell_type": "code",
      "execution_count": null,
      "metadata": {
        "id": "YWRb-00Ib0RT"
      },
      "outputs": [],
      "source": [
        "import cv2"
      ]
    },
    {
      "cell_type": "code",
      "execution_count": null,
      "metadata": {
        "id": "NgfSidm3b5Ar"
      },
      "outputs": [],
      "source": [
        "test_img = cv2.imread(\"/content/images/images/train/neutral/10024.jpg\")"
      ]
    },
    {
      "cell_type": "code",
      "execution_count": null,
      "metadata": {
        "id": "Bn9AHzjyb9_H",
        "colab": {
          "base_uri": "https://localhost:8080/",
          "height": 448
        },
        "outputId": "cf6d1c7d-9c14-4d7e-cad6-6880d20f17fa"
      },
      "outputs": [
        {
          "output_type": "execute_result",
          "data": {
            "text/plain": [
              "<matplotlib.image.AxesImage at 0x7bf72416b8b0>"
            ]
          },
          "metadata": {},
          "execution_count": 46
        },
        {
          "output_type": "display_data",
          "data": {
            "text/plain": [
              "<Figure size 640x480 with 1 Axes>"
            ],
            "image/png": "[encoded data removed]"
          },
          "metadata": {}
        }
      ],
      "source": [
        "plt.imshow(test_img)"
      ]
    },
    {
      "cell_type": "code",
      "execution_count": null,
      "metadata": {
        "id": "yX0hc_wocAU4"
      },
      "outputs": [],
      "source": [
        "test_img = cv2.resize(test_img,(48,48))"
      ]
    },
    {
      "cell_type": "code",
      "source": [
        "test_img.shape"
      ],
      "metadata": {
        "colab": {
          "base_uri": "https://localhost:8080/"
        },
        "id": "tmVxLnnrlNn2",
        "outputId": "607b8eae-0582-452a-f9f7-9fe396a8369b"
      },
      "execution_count": null,
      "outputs": [
        {
          "output_type": "execute_result",
          "data": {
            "text/plain": [
              "(48, 48, 3)"
            ]
          },
          "metadata": {},
          "execution_count": 127
        }
      ]
    },
    {
      "cell_type": "code",
      "source": [
        "gray_image = cv2.cvtColor(test_img, cv2.COLOR_BGR2GRAY)"
      ],
      "metadata": {
        "id": "PI06sQ9qlhab"
      },
      "execution_count": null,
      "outputs": []
    },
    {
      "cell_type": "code",
      "source": [
        "gray_image.shape"
      ],
      "metadata": {
        "colab": {
          "base_uri": "https://localhost:8080/"
        },
        "id": "T7WZX9Fhll_f",
        "outputId": "21ea9387-aea8-4ff0-a44e-3dafb347d06c"
      },
      "execution_count": null,
      "outputs": [
        {
          "output_type": "execute_result",
          "data": {
            "text/plain": [
              "(48, 48)"
            ]
          },
          "metadata": {},
          "execution_count": 129
        }
      ]
    },
    {
      "cell_type": "code",
      "execution_count": null,
      "metadata": {
        "id": "32ZvWYMCcCuk"
      },
      "outputs": [],
      "source": [
        "test_input = gray_image.reshape(1,48, 48)"
      ]
    },
    {
      "cell_type": "code",
      "execution_count": null,
      "metadata": {
        "id": "ptxcF0UhcEth",
        "colab": {
          "base_uri": "https://localhost:8080/"
        },
        "outputId": "684d8e32-9dac-491d-bdf2-e4c6568108f0"
      },
      "outputs": [
        {
          "output_type": "stream",
          "name": "stdout",
          "text": [
            "1/1 [==============================] - 0s 420ms/step\n"
          ]
        },
        {
          "output_type": "execute_result",
          "data": {
            "text/plain": [
              "array([[0.08989783, 0.00347038, 0.34389   , 0.0120366 , 0.21399151,\n",
              "        0.20552047, 0.1311932 ]], dtype=float32)"
            ]
          },
          "metadata": {},
          "execution_count": 131
        }
      ],
      "source": [
        "model.predict(test_input)"
      ]
    },
    {
      "cell_type": "code",
      "execution_count": null,
      "metadata": {
        "id": "KnL8g0mHekRS"
      },
      "outputs": [],
      "source": [
        "model.save('saved_model')"
      ]
    },
    {
      "cell_type": "code",
      "source": [
        "model.save('model.h5')"
      ],
      "metadata": {
        "id": "K62x2VH8PC1j",
        "outputId": "0f59a509-7f2b-4cce-f5fb-2c5d395a9e60",
        "colab": {
          "base_uri": "https://localhost:8080/"
        }
      },
      "execution_count": null,
      "outputs": [
        {
          "output_type": "stream",
          "name": "stderr",
          "text": [
            "/usr/local/lib/python3.10/dist-packages/keras/src/engine/training.py:3103: UserWarning: You are saving your model as an HDF5 file via `model.save()`. This file format is considered legacy. We recommend using instead the native Keras format, e.g. `model.save('my_model.keras')`.\n",
            "  saving_api.save_model(\n"
          ]
        }
      ]
    },
    {
      "cell_type": "markdown",
      "source": [
        "# LeNet-5 Implementation Using Pytorch"
      ],
      "metadata": {
        "id": "RzkJUDbOksQc"
      }
    },
    {
      "cell_type": "code",
      "source": [
        "import torch\n",
        "import torch.nn as nn\n",
        "import  torch.optim as optim\n",
        "import torch.nn.functional as F\n",
        "from torch.utils.data import DataLoader\n",
        "import torchvision.datasets as datasets\n",
        "import torchvision.transforms as transforms\n",
        "from torchvision import datasets, transforms\n",
        "from torch.utils.data import DataLoader"
      ],
      "metadata": {
        "id": "VA4NE5cxkwH0"
      },
      "execution_count": null,
      "outputs": []
    },
    {
      "cell_type": "code",
      "source": [
        "import torch.nn as nn"
      ],
      "metadata": {
        "id": "8jw_9LqelD9c"
      },
      "execution_count": null,
      "outputs": []
    },
    {
      "cell_type": "code",
      "source": [
        "class LeNet(nn.Module):\n",
        "  def __init__(self, num_classes):\n",
        "    super(LeNet, self).__init__()\n",
        "    self.relu = nn.ReLU()\n",
        "    self.pool = nn.AvgPool2d(kernel_size=(2,2), stride=(2,2))\n",
        "    self.conv1 = nn.Conv2d(in_channels=3, out_channels=6, kernel_size=(5,5), stride=(1,1), padding=(0,0))\n",
        "    self.conv2 = nn.Conv2d(in_channels=6, out_channels=16, kernel_size=(5,5), stride=(1,1), padding=(0,0))\n",
        "    self.conv3 = nn.Conv2d(in_channels=16, out_channels=120, kernel_size=(5,5), stride=(1,1), padding=(0,0))\n",
        "    self.linear1 = nn.Linear(120, 84)\n",
        "    self.linear2 = nn.Linear(84, num_classes)\n",
        "\n",
        "  def forward(self, x):\n",
        "    x = self.relu(self.conv1(x))\n",
        "    x = self.pool(x)\n",
        "    x = self.relu(self.conv2(x))\n",
        "    x = self.pool(x)\n",
        "    x = self.relu(self.conv3(x))\n",
        "    x = x.reshape(x.shape[0], -1)\n",
        "\n",
        "    x = self.relu(self.linear1(x))\n",
        "    x = self.linear2(x)\n",
        "\n",
        "    return x\n"
      ],
      "metadata": {
        "id": "xiPufltJlEOa"
      },
      "execution_count": null,
      "outputs": []
    },
    {
      "cell_type": "code",
      "source": [
        "device = torch.device(\"cuda\" if torch.cuda.is_available() else \"cpu\")"
      ],
      "metadata": {
        "id": "EYTueFX0lHa3"
      },
      "execution_count": null,
      "outputs": []
    },
    {
      "cell_type": "code",
      "source": [
        "num_classes = 7\n",
        "learning_rate = 0.001\n",
        "batch_size = 32\n",
        "num_epochs = 10"
      ],
      "metadata": {
        "id": "EZDNR3hOlKe6"
      },
      "execution_count": null,
      "outputs": []
    },
    {
      "cell_type": "code",
      "source": [
        "model = LeNet(num_classes=num_classes).to(device)"
      ],
      "metadata": {
        "id": "LcC7n-jdlmuS"
      },
      "execution_count": null,
      "outputs": []
    },
    {
      "cell_type": "code",
      "source": [
        "print(model)"
      ],
      "metadata": {
        "colab": {
          "base_uri": "https://localhost:8080/"
        },
        "id": "a_DRZtXG0yVH",
        "outputId": "2371208d-8fa9-4eb1-9b7e-cd2866568817"
      },
      "execution_count": null,
      "outputs": [
        {
          "output_type": "stream",
          "name": "stdout",
          "text": [
            "LeNet(\n",
            "  (relu): ReLU()\n",
            "  (pool): AvgPool2d(kernel_size=(2, 2), stride=(2, 2), padding=0)\n",
            "  (conv1): Conv2d(3, 6, kernel_size=(5, 5), stride=(1, 1))\n",
            "  (conv2): Conv2d(6, 16, kernel_size=(5, 5), stride=(1, 1))\n",
            "  (conv3): Conv2d(16, 120, kernel_size=(5, 5), stride=(1, 1))\n",
            "  (linear1): Linear(in_features=120, out_features=84, bias=True)\n",
            "  (linear2): Linear(in_features=84, out_features=7, bias=True)\n",
            ")\n"
          ]
        }
      ]
    },
    {
      "cell_type": "code",
      "source": [
        "criterion = nn.CrossEntropyLoss()\n",
        "optimizer = optim.Adam(model.parameters(), lr = learning_rate)"
      ],
      "metadata": {
        "id": "kq8UXLbXl1Vc"
      },
      "execution_count": null,
      "outputs": []
    },
    {
      "cell_type": "code",
      "source": [
        "# Define transforms to apply to the data\n",
        "transform = transforms.Compose([\n",
        "    transforms.Resize((32, 32)),  # Resize images to 224x224\n",
        "    transforms.ToTensor(),           # Convert images to PyTorch tensors\n",
        "    transforms.Normalize(mean=[0.5, 0.5, 0.5], std=[0.5, 0.5, 0.5])  # Normalize the image tensors\n",
        "])"
      ],
      "metadata": {
        "id": "TeARjGurnAAQ"
      },
      "execution_count": null,
      "outputs": []
    },
    {
      "cell_type": "code",
      "source": [
        "# Define the dataset\n",
        "train_dataset = datasets.ImageFolder(root='/content/images/images/train', transform=transform)\n",
        "\n",
        "# Define the data loader\n",
        "batch_size = 32\n",
        "train_loader = DataLoader(dataset=train_dataset, batch_size=batch_size, shuffle=True)\n"
      ],
      "metadata": {
        "id": "6fh-rxkOngG3"
      },
      "execution_count": null,
      "outputs": []
    },
    {
      "cell_type": "code",
      "source": [
        "# Define the dataset\n",
        "validation_dataset = datasets.ImageFolder(root='/content/images/images/validation', transform=transform)\n",
        "\n",
        "# Define the data loader\n",
        "batch_size = 32\n",
        "validation_loader = DataLoader(dataset=validation_dataset, batch_size=batch_size, shuffle=True)\n"
      ],
      "metadata": {
        "id": "2m17u5KzoApW"
      },
      "execution_count": null,
      "outputs": []
    },
    {
      "cell_type": "code",
      "source": [
        "for epoch in range(num_epochs):\n",
        "  for batch_idx,(data, targets) in enumerate(train_loader):\n",
        "    data = data.to(device = device)\n",
        "    # print(batch_idx)\n",
        "    targets = targets.to(device = device)\n",
        "    scores = model(data)\n",
        "    print(data.shape)\n",
        "    loss = criterion(scores, targets)\n",
        "    optimizer.zero_grad()\n",
        "    loss.backward()\n",
        "    optimizer.step()"
      ],
      "metadata": {
        "id": "JXm1KUC2J6mc"
      },
      "execution_count": null,
      "outputs": []
    },
    {
      "cell_type": "code",
      "source": [
        "def check_accuracy(loader, model):\n",
        "  num_correct = 0\n",
        "  num_samples = 0\n",
        "  model.eval()\n",
        "\n",
        "  with torch.no_grad():\n",
        "    for x,y in loader:\n",
        "      # print(x,y)\n",
        "      x = x.to(device=device)\n",
        "      y = y.to(device=device)\n",
        "      # x = x.reshape(x.shape[0], -1)\n",
        "\n",
        "      scores = model(x)\n",
        "      _, predictions = scores.max(1)\n",
        "      num_correct += (predictions == y).sum()\n",
        "      num_samples += predictions.size(0)\n",
        "\n",
        "    print(num_correct / num_samples)\n",
        "  model.train()\n",
        "  # return acc\n",
        "\n",
        "\n",
        "check_accuracy(train_loader, model)"
      ],
      "metadata": {
        "colab": {
          "base_uri": "https://localhost:8080/"
        },
        "id": "pr8X1Tq4Jwz_",
        "outputId": "78671d18-8b29-425d-aa18-47c48ec054d1"
      },
      "execution_count": null,
      "outputs": [
        {
          "output_type": "stream",
          "name": "stdout",
          "text": [
            "tensor(0.6104, device='cuda:0')\n"
          ]
        }
      ]
    },
    {
      "cell_type": "code",
      "source": [
        "# torch.save(model, 'LeNet.pth')"
      ],
      "metadata": {
        "id": "07EfoMVF7toi"
      },
      "execution_count": null,
      "outputs": []
    },
    {
      "cell_type": "code",
      "source": [
        "# loaded_model = torch.load('/content/LeNet.pth', map_location=torch.device('cpu'))"
      ],
      "metadata": {
        "id": "3R23rnwWDoU2"
      },
      "execution_count": null,
      "outputs": []
    },
    {
      "cell_type": "code",
      "source": [
        "import matplotlib.pyplot as plt"
      ],
      "metadata": {
        "id": "wi6YFtDtMxmA"
      },
      "execution_count": null,
      "outputs": []
    },
    {
      "cell_type": "code",
      "source": [
        "import cv2"
      ],
      "metadata": {
        "id": "RujdKcecA8WB"
      },
      "execution_count": null,
      "outputs": []
    },
    {
      "cell_type": "code",
      "source": [
        "img = cv2.imread(\"/content/images/images/train/neutral/10014.jpg\")"
      ],
      "metadata": {
        "id": "Zjgi-KJQAVgo"
      },
      "execution_count": null,
      "outputs": []
    },
    {
      "cell_type": "code",
      "source": [
        "test_img = cv2.resize(img,(32,32))"
      ],
      "metadata": {
        "id": "KH-iCjLZBSPO"
      },
      "execution_count": null,
      "outputs": []
    },
    {
      "cell_type": "code",
      "source": [
        "gray_image = cv2.cvtColor(test_img, cv2.COLOR_BGR2RGB)"
      ],
      "metadata": {
        "id": "qVt73o9pBM3x"
      },
      "execution_count": null,
      "outputs": []
    },
    {
      "cell_type": "code",
      "source": [
        "test_input = gray_image.reshape(3,32, 32)"
      ],
      "metadata": {
        "id": "EyLRtpcFBkyr"
      },
      "execution_count": null,
      "outputs": []
    },
    {
      "cell_type": "code",
      "source": [],
      "metadata": {
        "id": "ckoDBxu0GlhL"
      },
      "execution_count": null,
      "outputs": []
    },
    {
      "cell_type": "code",
      "source": [
        "test_input = torch.tensor(test_input)"
      ],
      "metadata": {
        "id": "FQTKjqqqEmoC"
      },
      "execution_count": null,
      "outputs": []
    },
    {
      "cell_type": "code",
      "source": [
        "test_input = test_input.to('cuda:0')\n",
        "test_input = test_input.float()"
      ],
      "metadata": {
        "id": "kMRB2sxDEphd"
      },
      "execution_count": null,
      "outputs": []
    },
    {
      "cell_type": "code",
      "source": [
        "device = test_input.device\n",
        "model.to(device)"
      ],
      "metadata": {
        "colab": {
          "base_uri": "https://localhost:8080/"
        },
        "id": "3O_raQmgGIsI",
        "outputId": "1b21dc5c-4c61-407d-f667-1b110071e27f"
      },
      "execution_count": null,
      "outputs": [
        {
          "output_type": "execute_result",
          "data": {
            "text/plain": [
              "LeNet(\n",
              "  (relu): ReLU()\n",
              "  (pool): AvgPool2d(kernel_size=(2, 2), stride=(2, 2), padding=0)\n",
              "  (conv1): Conv2d(3, 6, kernel_size=(5, 5), stride=(1, 1))\n",
              "  (conv2): Conv2d(6, 16, kernel_size=(5, 5), stride=(1, 1))\n",
              "  (conv3): Conv2d(16, 120, kernel_size=(5, 5), stride=(1, 1))\n",
              "  (linear1): Linear(in_features=120, out_features=84, bias=True)\n",
              "  (linear2): Linear(in_features=84, out_features=7, bias=True)\n",
              ")"
            ]
          },
          "metadata": {},
          "execution_count": 109
        }
      ]
    },
    {
      "cell_type": "code",
      "source": [
        "test_input = test_input.reshape(1,3,32,32)"
      ],
      "metadata": {
        "id": "Rmhk8QwVGTln"
      },
      "execution_count": null,
      "outputs": []
    },
    {
      "cell_type": "code",
      "source": [
        "test_input.shape"
      ],
      "metadata": {
        "colab": {
          "base_uri": "https://localhost:8080/"
        },
        "id": "oEZAE8pILTlp",
        "outputId": "70ff3814-dcf1-49e7-de48-e568a2a1c8dc"
      },
      "execution_count": null,
      "outputs": [
        {
          "output_type": "execute_result",
          "data": {
            "text/plain": [
              "torch.Size([1, 3, 32, 32])"
            ]
          },
          "metadata": {},
          "execution_count": 111
        }
      ]
    },
    {
      "cell_type": "code",
      "source": [
        "print(\"Input device:\", test_input.device)\n",
        "print(\"Weights device:\", model.conv1.weight.device)"
      ],
      "metadata": {
        "colab": {
          "base_uri": "https://localhost:8080/"
        },
        "id": "T8dBCNe3LjBz",
        "outputId": "2a599b15-dc77-4460-cf83-53322777d707"
      },
      "execution_count": null,
      "outputs": [
        {
          "output_type": "stream",
          "name": "stdout",
          "text": [
            "Input device: cuda:0\n",
            "Weights device: cuda:0\n"
          ]
        }
      ]
    },
    {
      "cell_type": "code",
      "source": [
        "scores = model(test_input)\n",
        "_, predictions = scores.max(1)"
      ],
      "metadata": {
        "id": "2XBRpvjCLYnp"
      },
      "execution_count": null,
      "outputs": []
    },
    {
      "cell_type": "code",
      "source": [
        "scores"
      ],
      "metadata": {
        "colab": {
          "base_uri": "https://localhost:8080/"
        },
        "id": "dO3uUEWGLtgQ",
        "outputId": "b770b8d0-f30a-42f3-de13-6306ef8f243e"
      },
      "execution_count": null,
      "outputs": [
        {
          "output_type": "execute_result",
          "data": {
            "text/plain": [
              "tensor([[ 21.4836, -65.6392,  16.1878, -61.3975,   0.7090,  -0.8016, -16.2973]],\n",
              "       device='cuda:0', grad_fn=<AddmmBackward0>)"
            ]
          },
          "metadata": {},
          "execution_count": 114
        }
      ]
    },
    {
      "cell_type": "code",
      "source": [
        "## ALEX NET"
      ],
      "metadata": {
        "id": "jhAc-VPkliMd"
      },
      "execution_count": null,
      "outputs": []
    },
    {
      "cell_type": "code",
      "source": [
        "\n",
        "\n",
        "# VGG_types = {\n",
        "#     \"VGG11\": [64, \"M\", 128, \"M\", 256, 256, \"M\", 512, 512, \"M\", 512, 512, \"M\"],\n",
        "#     \"VGG13\": [64, 64, \"M\", 128, 128, \"M\", 256, 256, \"M\", 512, 512, \"M\", 512, 512, \"M\"],\n",
        "#     \"VGG16\": [\n",
        "#         64,\n",
        "#         64,\n",
        "#         \"M\",\n",
        "#         128,\n",
        "#         128,\n",
        "#         \"M\",\n",
        "#         256,\n",
        "#         256,\n",
        "#         256,\n",
        "#         \"M\",\n",
        "#         512,\n",
        "#         512,\n",
        "#         512,\n",
        "#         \"M\",\n",
        "#         512,\n",
        "#         512,\n",
        "#         512,\n",
        "#         \"M\",\n",
        "#     ],\n",
        "#     \"VGG19\": [\n",
        "#         64,\n",
        "#         64,\n",
        "#         \"M\",\n",
        "#         128,\n",
        "#         128,\n",
        "#         \"M\",\n",
        "#         256,\n",
        "#         256,\n",
        "#         256,\n",
        "#         256,\n",
        "#         \"M\",\n",
        "#         512,\n",
        "#         512,\n",
        "#         512,\n",
        "#         512,\n",
        "#         \"M\",\n",
        "#         512,\n",
        "#         512,\n",
        "#         512,\n",
        "#         512,\n",
        "#         \"M\",\n",
        "#     ],\n",
        "# }\n",
        "\n",
        "\n",
        "# class VGG_net(nn.Module):\n",
        "#     def __init__(self, in_channels=3, num_classes=7):\n",
        "#         super(VGG_net, self).__init__()\n",
        "#         self.in_channels = in_channels\n",
        "#         self.conv_layers = self.create_conv_layers(VGG_types[\"VGG16\"])\n",
        "\n",
        "#         self.fcs = nn.Sequential(\n",
        "#             nn.Linear(512 * 7 * 7, 4096),\n",
        "#             nn.ReLU(),\n",
        "#             nn.Dropout(p=0.5),\n",
        "#             nn.Linear(4096, 4096),\n",
        "#             nn.ReLU(),\n",
        "#             nn.Dropout(p=0.5),\n",
        "#             nn.Linear(4096, num_classes),\n",
        "#         )\n",
        "\n",
        "#     def forward(self, x):\n",
        "#         x = self.conv_layers(x)\n",
        "#         x = x.reshape(x.shape[0], -1)\n",
        "#         x = self.fcs(x)\n",
        "#         return x\n",
        "\n",
        "#     def create_conv_layers(self, architecture):\n",
        "#         layers = []\n",
        "#         in_channels = self.in_channels\n",
        "\n",
        "#         for x in architecture:\n",
        "#             if type(x) == int:\n",
        "#                 out_channels = x\n",
        "\n",
        "#                 layers += [\n",
        "#                     nn.Conv2d(\n",
        "#                         in_channels=in_channels,\n",
        "#                         out_channels=out_channels,\n",
        "#                         kernel_size=(3, 3),\n",
        "#                         stride=(1, 1),\n",
        "#                         padding=(1, 1),\n",
        "#                     ),\n",
        "#                     nn.BatchNorm2d(x),\n",
        "#                     nn.ReLU(),\n",
        "#                 ]\n",
        "#                 in_channels = x\n",
        "#             elif x == \"M\":\n",
        "#                 layers += [nn.MaxPool2d(kernel_size=(2, 2), stride=(2, 2))]\n",
        "\n",
        "#         return nn.Sequential(*layers)\n",
        "\n",
        "\n"
      ],
      "metadata": {
        "id": "rtbIIT1m2piv"
      },
      "execution_count": null,
      "outputs": []
    },
    {
      "cell_type": "code",
      "source": [
        "class VGG16(nn.Module):\n",
        "    def __init__(self, num_classes=7):\n",
        "        super(VGG16, self).__init__()\n",
        "        self.conv1 = nn.Conv2d(3, 64, kernel_size=3, padding=1)\n",
        "        self.conv2 = nn.Conv2d(64, 64, kernel_size=3, padding=1)\n",
        "        self.pool = nn.MaxPool2d(kernel_size=2, stride=2)\n",
        "        self.conv3 = nn.Conv2d(64, 128, kernel_size=3, padding=1)\n",
        "        self.conv4 = nn.Conv2d(128, 128, kernel_size=3, padding=1)\n",
        "        self.conv5 = nn.Conv2d(128, 256, kernel_size=3, padding=1)\n",
        "        self.conv6 = nn.Conv2d(256, 256, kernel_size=3, padding=1)\n",
        "        self.conv7 = nn.Conv2d(256, 256, kernel_size=3, padding=1)\n",
        "        self.fc1 = nn.Linear(256 * 4 * 4, 512)\n",
        "        self.fc2 = nn.Linear(512, num_classes)\n",
        "        self.relu = nn.ReLU()\n",
        "\n",
        "    def forward(self, x):\n",
        "        x = self.relu(self.conv1(x))\n",
        "        x = self.pool(self.relu(self.conv2(x)))\n",
        "        x = self.relu(self.conv3(x))\n",
        "        x = self.pool(self.relu(self.conv4(x)))\n",
        "        x = self.relu(self.conv5(x))\n",
        "        x = self.relu(self.conv6(x))\n",
        "        x = self.pool(self.relu(self.conv7(x)))\n",
        "        x = x.view(-1, 256 * 4 * 4)\n",
        "        x = self.relu(self.fc1(x))\n",
        "        x = self.fc2(x)\n",
        "        return x\n",
        "\n",
        "# Initialize the model\n"
      ],
      "metadata": {
        "id": "3tiMdjn25JF0"
      },
      "execution_count": null,
      "outputs": []
    },
    {
      "cell_type": "code",
      "source": [
        "model = VGG16(num_classes=7)"
      ],
      "metadata": {
        "id": "TVCWlVIv3ldC"
      },
      "execution_count": null,
      "outputs": []
    },
    {
      "cell_type": "code",
      "source": [
        "for epoch in range(num_epochs):\n",
        "  for batch_idx,(data, targets) in enumerate(train_loader):\n",
        "    data = data.to(device = device)\n",
        "    # print(batch_idx)\n",
        "    targets = targets.to(device = device)\n",
        "    scores = model(data)\n",
        "    loss = criterion(scores, targets)\n",
        "    optimizer.zero_grad()\n",
        "    loss.backward()\n",
        "    optimizer.step()"
      ],
      "metadata": {
        "id": "tASOdHjU3o8K"
      },
      "execution_count": null,
      "outputs": []
    },
    {
      "cell_type": "code",
      "source": [
        "def check_accuracy(loader, model):\n",
        "  num_correct = 0\n",
        "  num_samples = 0\n",
        "  model.eval()\n",
        "\n",
        "  with torch.no_grad():\n",
        "    for x,y in loader:\n",
        "      # print(x,y)\n",
        "      x = x.to(device=device)\n",
        "      y = y.to(device=device)\n",
        "      # x = x.reshape(x.shape[0], -1)\n",
        "\n",
        "      scores = model(x)\n",
        "      _, predictions = scores.max(1)\n",
        "      num_correct += (predictions == y).sum()\n",
        "      num_samples += predictions.size(0)\n",
        "\n",
        "    print(num_correct / num_samples)\n",
        "  model.train()\n",
        "  # return acc\n",
        "\n",
        "\n",
        "check_accuracy(train_loader, model)"
      ],
      "metadata": {
        "colab": {
          "base_uri": "https://localhost:8080/"
        },
        "id": "yBYkBR2T33kq",
        "outputId": "bb1572a4-115e-404d-8280-7413877b5e82"
      },
      "execution_count": null,
      "outputs": [
        {
          "output_type": "stream",
          "name": "stdout",
          "text": [
            "tensor(0.2394)\n"
          ]
        }
      ]
    },
    {
      "cell_type": "code",
      "source": [
        "torch.save(model, 'VGG16.pth')"
      ],
      "metadata": {
        "id": "q6W_ePJh77ar"
      },
      "execution_count": null,
      "outputs": []
    },
    {
      "cell_type": "code",
      "source": [],
      "metadata": {
        "id": "y212WzUR7JM9"
      },
      "execution_count": null,
      "outputs": []
    }
  ],
  "metadata": {
    "accelerator": "GPU",
    "colab": {
      "gpuType": "T4",
      "provenance": []
    },
    "kernelspec": {
      "display_name": "Python 3",
      "name": "python3"
    },
    "language_info": {
      "name": "python"
    }
  },
  "nbformat": 4,
  "nbformat_minor": 0
}